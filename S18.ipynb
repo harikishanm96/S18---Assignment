{
  "nbformat": 4,
  "nbformat_minor": 0,
  "metadata": {
    "colab": {
      "provenance": [],
      "gpuType": "T4"
    },
    "kernelspec": {
      "name": "python3",
      "display_name": "Python 3"
    },
    "language_info": {
      "name": "python"
    },
    "accelerator": "GPU",
    "widgets": {
      "application/vnd.jupyter.widget-state+json": {
        "ebdcde7c66bd4d348e5b37aacd706bba": {
          "model_module": "@jupyter-widgets/controls",
          "model_name": "HBoxModel",
          "model_module_version": "1.5.0",
          "state": {
            "_dom_classes": [],
            "_model_module": "@jupyter-widgets/controls",
            "_model_module_version": "1.5.0",
            "_model_name": "HBoxModel",
            "_view_count": null,
            "_view_module": "@jupyter-widgets/controls",
            "_view_module_version": "1.5.0",
            "_view_name": "HBoxView",
            "box_style": "",
            "children": [
              "IPY_MODEL_2399fe3347b2451d9f00a9c50f93794a",
              "IPY_MODEL_168dae2142d24e4f8cef8cd3fd63a5fd",
              "IPY_MODEL_02612c9dc803470d891e298d5c8f5c02"
            ],
            "layout": "IPY_MODEL_9775c4771e3748019aa96b81be1d5c30"
          }
        },
        "2399fe3347b2451d9f00a9c50f93794a": {
          "model_module": "@jupyter-widgets/controls",
          "model_name": "HTMLModel",
          "model_module_version": "1.5.0",
          "state": {
            "_dom_classes": [],
            "_model_module": "@jupyter-widgets/controls",
            "_model_module_version": "1.5.0",
            "_model_name": "HTMLModel",
            "_view_count": null,
            "_view_module": "@jupyter-widgets/controls",
            "_view_module_version": "1.5.0",
            "_view_name": "HTMLView",
            "description": "",
            "description_tooltip": null,
            "layout": "IPY_MODEL_d043de0b1b8a4e459250da24e5219361",
            "placeholder": "​",
            "style": "IPY_MODEL_fec137a2784e4f3f96866632a126491a",
            "value": "Downloading readme: 100%"
          }
        },
        "168dae2142d24e4f8cef8cd3fd63a5fd": {
          "model_module": "@jupyter-widgets/controls",
          "model_name": "FloatProgressModel",
          "model_module_version": "1.5.0",
          "state": {
            "_dom_classes": [],
            "_model_module": "@jupyter-widgets/controls",
            "_model_module_version": "1.5.0",
            "_model_name": "FloatProgressModel",
            "_view_count": null,
            "_view_module": "@jupyter-widgets/controls",
            "_view_module_version": "1.5.0",
            "_view_name": "ProgressView",
            "bar_style": "success",
            "description": "",
            "description_tooltip": null,
            "layout": "IPY_MODEL_adb99323dceb469782ccd7155eb931c8",
            "max": 28064,
            "min": 0,
            "orientation": "horizontal",
            "style": "IPY_MODEL_aedc05aacc1f4b9b937bf601e3e9dea4",
            "value": 28064
          }
        },
        "02612c9dc803470d891e298d5c8f5c02": {
          "model_module": "@jupyter-widgets/controls",
          "model_name": "HTMLModel",
          "model_module_version": "1.5.0",
          "state": {
            "_dom_classes": [],
            "_model_module": "@jupyter-widgets/controls",
            "_model_module_version": "1.5.0",
            "_model_name": "HTMLModel",
            "_view_count": null,
            "_view_module": "@jupyter-widgets/controls",
            "_view_module_version": "1.5.0",
            "_view_name": "HTMLView",
            "description": "",
            "description_tooltip": null,
            "layout": "IPY_MODEL_dd65cab514d04fc7a996a90de17953f3",
            "placeholder": "​",
            "style": "IPY_MODEL_ea960e1de86740a38707de4dbeb5ef9c",
            "value": " 28.1k/28.1k [00:00&lt;00:00, 1.84MB/s]"
          }
        },
        "9775c4771e3748019aa96b81be1d5c30": {
          "model_module": "@jupyter-widgets/base",
          "model_name": "LayoutModel",
          "model_module_version": "1.2.0",
          "state": {
            "_model_module": "@jupyter-widgets/base",
            "_model_module_version": "1.2.0",
            "_model_name": "LayoutModel",
            "_view_count": null,
            "_view_module": "@jupyter-widgets/base",
            "_view_module_version": "1.2.0",
            "_view_name": "LayoutView",
            "align_content": null,
            "align_items": null,
            "align_self": null,
            "border": null,
            "bottom": null,
            "display": null,
            "flex": null,
            "flex_flow": null,
            "grid_area": null,
            "grid_auto_columns": null,
            "grid_auto_flow": null,
            "grid_auto_rows": null,
            "grid_column": null,
            "grid_gap": null,
            "grid_row": null,
            "grid_template_areas": null,
            "grid_template_columns": null,
            "grid_template_rows": null,
            "height": null,
            "justify_content": null,
            "justify_items": null,
            "left": null,
            "margin": null,
            "max_height": null,
            "max_width": null,
            "min_height": null,
            "min_width": null,
            "object_fit": null,
            "object_position": null,
            "order": null,
            "overflow": null,
            "overflow_x": null,
            "overflow_y": null,
            "padding": null,
            "right": null,
            "top": null,
            "visibility": null,
            "width": null
          }
        },
        "d043de0b1b8a4e459250da24e5219361": {
          "model_module": "@jupyter-widgets/base",
          "model_name": "LayoutModel",
          "model_module_version": "1.2.0",
          "state": {
            "_model_module": "@jupyter-widgets/base",
            "_model_module_version": "1.2.0",
            "_model_name": "LayoutModel",
            "_view_count": null,
            "_view_module": "@jupyter-widgets/base",
            "_view_module_version": "1.2.0",
            "_view_name": "LayoutView",
            "align_content": null,
            "align_items": null,
            "align_self": null,
            "border": null,
            "bottom": null,
            "display": null,
            "flex": null,
            "flex_flow": null,
            "grid_area": null,
            "grid_auto_columns": null,
            "grid_auto_flow": null,
            "grid_auto_rows": null,
            "grid_column": null,
            "grid_gap": null,
            "grid_row": null,
            "grid_template_areas": null,
            "grid_template_columns": null,
            "grid_template_rows": null,
            "height": null,
            "justify_content": null,
            "justify_items": null,
            "left": null,
            "margin": null,
            "max_height": null,
            "max_width": null,
            "min_height": null,
            "min_width": null,
            "object_fit": null,
            "object_position": null,
            "order": null,
            "overflow": null,
            "overflow_x": null,
            "overflow_y": null,
            "padding": null,
            "right": null,
            "top": null,
            "visibility": null,
            "width": null
          }
        },
        "fec137a2784e4f3f96866632a126491a": {
          "model_module": "@jupyter-widgets/controls",
          "model_name": "DescriptionStyleModel",
          "model_module_version": "1.5.0",
          "state": {
            "_model_module": "@jupyter-widgets/controls",
            "_model_module_version": "1.5.0",
            "_model_name": "DescriptionStyleModel",
            "_view_count": null,
            "_view_module": "@jupyter-widgets/base",
            "_view_module_version": "1.2.0",
            "_view_name": "StyleView",
            "description_width": ""
          }
        },
        "adb99323dceb469782ccd7155eb931c8": {
          "model_module": "@jupyter-widgets/base",
          "model_name": "LayoutModel",
          "model_module_version": "1.2.0",
          "state": {
            "_model_module": "@jupyter-widgets/base",
            "_model_module_version": "1.2.0",
            "_model_name": "LayoutModel",
            "_view_count": null,
            "_view_module": "@jupyter-widgets/base",
            "_view_module_version": "1.2.0",
            "_view_name": "LayoutView",
            "align_content": null,
            "align_items": null,
            "align_self": null,
            "border": null,
            "bottom": null,
            "display": null,
            "flex": null,
            "flex_flow": null,
            "grid_area": null,
            "grid_auto_columns": null,
            "grid_auto_flow": null,
            "grid_auto_rows": null,
            "grid_column": null,
            "grid_gap": null,
            "grid_row": null,
            "grid_template_areas": null,
            "grid_template_columns": null,
            "grid_template_rows": null,
            "height": null,
            "justify_content": null,
            "justify_items": null,
            "left": null,
            "margin": null,
            "max_height": null,
            "max_width": null,
            "min_height": null,
            "min_width": null,
            "object_fit": null,
            "object_position": null,
            "order": null,
            "overflow": null,
            "overflow_x": null,
            "overflow_y": null,
            "padding": null,
            "right": null,
            "top": null,
            "visibility": null,
            "width": null
          }
        },
        "aedc05aacc1f4b9b937bf601e3e9dea4": {
          "model_module": "@jupyter-widgets/controls",
          "model_name": "ProgressStyleModel",
          "model_module_version": "1.5.0",
          "state": {
            "_model_module": "@jupyter-widgets/controls",
            "_model_module_version": "1.5.0",
            "_model_name": "ProgressStyleModel",
            "_view_count": null,
            "_view_module": "@jupyter-widgets/base",
            "_view_module_version": "1.2.0",
            "_view_name": "StyleView",
            "bar_color": null,
            "description_width": ""
          }
        },
        "dd65cab514d04fc7a996a90de17953f3": {
          "model_module": "@jupyter-widgets/base",
          "model_name": "LayoutModel",
          "model_module_version": "1.2.0",
          "state": {
            "_model_module": "@jupyter-widgets/base",
            "_model_module_version": "1.2.0",
            "_model_name": "LayoutModel",
            "_view_count": null,
            "_view_module": "@jupyter-widgets/base",
            "_view_module_version": "1.2.0",
            "_view_name": "LayoutView",
            "align_content": null,
            "align_items": null,
            "align_self": null,
            "border": null,
            "bottom": null,
            "display": null,
            "flex": null,
            "flex_flow": null,
            "grid_area": null,
            "grid_auto_columns": null,
            "grid_auto_flow": null,
            "grid_auto_rows": null,
            "grid_column": null,
            "grid_gap": null,
            "grid_row": null,
            "grid_template_areas": null,
            "grid_template_columns": null,
            "grid_template_rows": null,
            "height": null,
            "justify_content": null,
            "justify_items": null,
            "left": null,
            "margin": null,
            "max_height": null,
            "max_width": null,
            "min_height": null,
            "min_width": null,
            "object_fit": null,
            "object_position": null,
            "order": null,
            "overflow": null,
            "overflow_x": null,
            "overflow_y": null,
            "padding": null,
            "right": null,
            "top": null,
            "visibility": null,
            "width": null
          }
        },
        "ea960e1de86740a38707de4dbeb5ef9c": {
          "model_module": "@jupyter-widgets/controls",
          "model_name": "DescriptionStyleModel",
          "model_module_version": "1.5.0",
          "state": {
            "_model_module": "@jupyter-widgets/controls",
            "_model_module_version": "1.5.0",
            "_model_name": "DescriptionStyleModel",
            "_view_count": null,
            "_view_module": "@jupyter-widgets/base",
            "_view_module_version": "1.2.0",
            "_view_name": "StyleView",
            "description_width": ""
          }
        },
        "25be9dd70a6b49e9b1497a95ba383d3e": {
          "model_module": "@jupyter-widgets/controls",
          "model_name": "HBoxModel",
          "model_module_version": "1.5.0",
          "state": {
            "_dom_classes": [],
            "_model_module": "@jupyter-widgets/controls",
            "_model_module_version": "1.5.0",
            "_model_name": "HBoxModel",
            "_view_count": null,
            "_view_module": "@jupyter-widgets/controls",
            "_view_module_version": "1.5.0",
            "_view_name": "HBoxView",
            "box_style": "",
            "children": [
              "IPY_MODEL_baa3fe94ae9f4191be9896f89e9bff80",
              "IPY_MODEL_b84f4bc6ab4f4826a1ec4d524ff7298e",
              "IPY_MODEL_20d3809a049c412e901c0f22184bd72e"
            ],
            "layout": "IPY_MODEL_a64ecfd76fa84cd7946ed439aea8203b"
          }
        },
        "baa3fe94ae9f4191be9896f89e9bff80": {
          "model_module": "@jupyter-widgets/controls",
          "model_name": "HTMLModel",
          "model_module_version": "1.5.0",
          "state": {
            "_dom_classes": [],
            "_model_module": "@jupyter-widgets/controls",
            "_model_module_version": "1.5.0",
            "_model_name": "HTMLModel",
            "_view_count": null,
            "_view_module": "@jupyter-widgets/controls",
            "_view_module_version": "1.5.0",
            "_view_name": "HTMLView",
            "description": "",
            "description_tooltip": null,
            "layout": "IPY_MODEL_452fe0e387eb465a92abcd73cfd404e3",
            "placeholder": "​",
            "style": "IPY_MODEL_50182cf751bf494495f1f59e3ccabdf6",
            "value": "Downloading data: 100%"
          }
        },
        "b84f4bc6ab4f4826a1ec4d524ff7298e": {
          "model_module": "@jupyter-widgets/controls",
          "model_name": "FloatProgressModel",
          "model_module_version": "1.5.0",
          "state": {
            "_dom_classes": [],
            "_model_module": "@jupyter-widgets/controls",
            "_model_module_version": "1.5.0",
            "_model_name": "FloatProgressModel",
            "_view_count": null,
            "_view_module": "@jupyter-widgets/controls",
            "_view_module_version": "1.5.0",
            "_view_name": "ProgressView",
            "bar_style": "success",
            "description": "",
            "description_tooltip": null,
            "layout": "IPY_MODEL_ce7a93e2867f406f909600e59e9dca85",
            "max": 5726189,
            "min": 0,
            "orientation": "horizontal",
            "style": "IPY_MODEL_d8db5b1aabd449feb1af4bd264ac862f",
            "value": 5726189
          }
        },
        "20d3809a049c412e901c0f22184bd72e": {
          "model_module": "@jupyter-widgets/controls",
          "model_name": "HTMLModel",
          "model_module_version": "1.5.0",
          "state": {
            "_dom_classes": [],
            "_model_module": "@jupyter-widgets/controls",
            "_model_module_version": "1.5.0",
            "_model_name": "HTMLModel",
            "_view_count": null,
            "_view_module": "@jupyter-widgets/controls",
            "_view_module_version": "1.5.0",
            "_view_name": "HTMLView",
            "description": "",
            "description_tooltip": null,
            "layout": "IPY_MODEL_d666ca6050a74ad9b73d5e3854c40827",
            "placeholder": "​",
            "style": "IPY_MODEL_bbd12d24a9c643b59ccd519eb0fc695c",
            "value": " 5.73M/5.73M [00:00&lt;00:00, 9.58MB/s]"
          }
        },
        "a64ecfd76fa84cd7946ed439aea8203b": {
          "model_module": "@jupyter-widgets/base",
          "model_name": "LayoutModel",
          "model_module_version": "1.2.0",
          "state": {
            "_model_module": "@jupyter-widgets/base",
            "_model_module_version": "1.2.0",
            "_model_name": "LayoutModel",
            "_view_count": null,
            "_view_module": "@jupyter-widgets/base",
            "_view_module_version": "1.2.0",
            "_view_name": "LayoutView",
            "align_content": null,
            "align_items": null,
            "align_self": null,
            "border": null,
            "bottom": null,
            "display": null,
            "flex": null,
            "flex_flow": null,
            "grid_area": null,
            "grid_auto_columns": null,
            "grid_auto_flow": null,
            "grid_auto_rows": null,
            "grid_column": null,
            "grid_gap": null,
            "grid_row": null,
            "grid_template_areas": null,
            "grid_template_columns": null,
            "grid_template_rows": null,
            "height": null,
            "justify_content": null,
            "justify_items": null,
            "left": null,
            "margin": null,
            "max_height": null,
            "max_width": null,
            "min_height": null,
            "min_width": null,
            "object_fit": null,
            "object_position": null,
            "order": null,
            "overflow": null,
            "overflow_x": null,
            "overflow_y": null,
            "padding": null,
            "right": null,
            "top": null,
            "visibility": null,
            "width": null
          }
        },
        "452fe0e387eb465a92abcd73cfd404e3": {
          "model_module": "@jupyter-widgets/base",
          "model_name": "LayoutModel",
          "model_module_version": "1.2.0",
          "state": {
            "_model_module": "@jupyter-widgets/base",
            "_model_module_version": "1.2.0",
            "_model_name": "LayoutModel",
            "_view_count": null,
            "_view_module": "@jupyter-widgets/base",
            "_view_module_version": "1.2.0",
            "_view_name": "LayoutView",
            "align_content": null,
            "align_items": null,
            "align_self": null,
            "border": null,
            "bottom": null,
            "display": null,
            "flex": null,
            "flex_flow": null,
            "grid_area": null,
            "grid_auto_columns": null,
            "grid_auto_flow": null,
            "grid_auto_rows": null,
            "grid_column": null,
            "grid_gap": null,
            "grid_row": null,
            "grid_template_areas": null,
            "grid_template_columns": null,
            "grid_template_rows": null,
            "height": null,
            "justify_content": null,
            "justify_items": null,
            "left": null,
            "margin": null,
            "max_height": null,
            "max_width": null,
            "min_height": null,
            "min_width": null,
            "object_fit": null,
            "object_position": null,
            "order": null,
            "overflow": null,
            "overflow_x": null,
            "overflow_y": null,
            "padding": null,
            "right": null,
            "top": null,
            "visibility": null,
            "width": null
          }
        },
        "50182cf751bf494495f1f59e3ccabdf6": {
          "model_module": "@jupyter-widgets/controls",
          "model_name": "DescriptionStyleModel",
          "model_module_version": "1.5.0",
          "state": {
            "_model_module": "@jupyter-widgets/controls",
            "_model_module_version": "1.5.0",
            "_model_name": "DescriptionStyleModel",
            "_view_count": null,
            "_view_module": "@jupyter-widgets/base",
            "_view_module_version": "1.2.0",
            "_view_name": "StyleView",
            "description_width": ""
          }
        },
        "ce7a93e2867f406f909600e59e9dca85": {
          "model_module": "@jupyter-widgets/base",
          "model_name": "LayoutModel",
          "model_module_version": "1.2.0",
          "state": {
            "_model_module": "@jupyter-widgets/base",
            "_model_module_version": "1.2.0",
            "_model_name": "LayoutModel",
            "_view_count": null,
            "_view_module": "@jupyter-widgets/base",
            "_view_module_version": "1.2.0",
            "_view_name": "LayoutView",
            "align_content": null,
            "align_items": null,
            "align_self": null,
            "border": null,
            "bottom": null,
            "display": null,
            "flex": null,
            "flex_flow": null,
            "grid_area": null,
            "grid_auto_columns": null,
            "grid_auto_flow": null,
            "grid_auto_rows": null,
            "grid_column": null,
            "grid_gap": null,
            "grid_row": null,
            "grid_template_areas": null,
            "grid_template_columns": null,
            "grid_template_rows": null,
            "height": null,
            "justify_content": null,
            "justify_items": null,
            "left": null,
            "margin": null,
            "max_height": null,
            "max_width": null,
            "min_height": null,
            "min_width": null,
            "object_fit": null,
            "object_position": null,
            "order": null,
            "overflow": null,
            "overflow_x": null,
            "overflow_y": null,
            "padding": null,
            "right": null,
            "top": null,
            "visibility": null,
            "width": null
          }
        },
        "d8db5b1aabd449feb1af4bd264ac862f": {
          "model_module": "@jupyter-widgets/controls",
          "model_name": "ProgressStyleModel",
          "model_module_version": "1.5.0",
          "state": {
            "_model_module": "@jupyter-widgets/controls",
            "_model_module_version": "1.5.0",
            "_model_name": "ProgressStyleModel",
            "_view_count": null,
            "_view_module": "@jupyter-widgets/base",
            "_view_module_version": "1.2.0",
            "_view_name": "StyleView",
            "bar_color": null,
            "description_width": ""
          }
        },
        "d666ca6050a74ad9b73d5e3854c40827": {
          "model_module": "@jupyter-widgets/base",
          "model_name": "LayoutModel",
          "model_module_version": "1.2.0",
          "state": {
            "_model_module": "@jupyter-widgets/base",
            "_model_module_version": "1.2.0",
            "_model_name": "LayoutModel",
            "_view_count": null,
            "_view_module": "@jupyter-widgets/base",
            "_view_module_version": "1.2.0",
            "_view_name": "LayoutView",
            "align_content": null,
            "align_items": null,
            "align_self": null,
            "border": null,
            "bottom": null,
            "display": null,
            "flex": null,
            "flex_flow": null,
            "grid_area": null,
            "grid_auto_columns": null,
            "grid_auto_flow": null,
            "grid_auto_rows": null,
            "grid_column": null,
            "grid_gap": null,
            "grid_row": null,
            "grid_template_areas": null,
            "grid_template_columns": null,
            "grid_template_rows": null,
            "height": null,
            "justify_content": null,
            "justify_items": null,
            "left": null,
            "margin": null,
            "max_height": null,
            "max_width": null,
            "min_height": null,
            "min_width": null,
            "object_fit": null,
            "object_position": null,
            "order": null,
            "overflow": null,
            "overflow_x": null,
            "overflow_y": null,
            "padding": null,
            "right": null,
            "top": null,
            "visibility": null,
            "width": null
          }
        },
        "bbd12d24a9c643b59ccd519eb0fc695c": {
          "model_module": "@jupyter-widgets/controls",
          "model_name": "DescriptionStyleModel",
          "model_module_version": "1.5.0",
          "state": {
            "_model_module": "@jupyter-widgets/controls",
            "_model_module_version": "1.5.0",
            "_model_name": "DescriptionStyleModel",
            "_view_count": null,
            "_view_module": "@jupyter-widgets/base",
            "_view_module_version": "1.2.0",
            "_view_name": "StyleView",
            "description_width": ""
          }
        },
        "e197a17a0ec14e3785c1ce0f20178a95": {
          "model_module": "@jupyter-widgets/controls",
          "model_name": "HBoxModel",
          "model_module_version": "1.5.0",
          "state": {
            "_dom_classes": [],
            "_model_module": "@jupyter-widgets/controls",
            "_model_module_version": "1.5.0",
            "_model_name": "HBoxModel",
            "_view_count": null,
            "_view_module": "@jupyter-widgets/controls",
            "_view_module_version": "1.5.0",
            "_view_name": "HBoxView",
            "box_style": "",
            "children": [
              "IPY_MODEL_4ca7d4aa2c12428cbf2a0017255e77bc",
              "IPY_MODEL_ac8d729a26ad452594b3373cdaab7e09",
              "IPY_MODEL_3d4b6983635549f8a381267b06c4e8e9"
            ],
            "layout": "IPY_MODEL_462961eb26a2428889f520415e932831"
          }
        },
        "4ca7d4aa2c12428cbf2a0017255e77bc": {
          "model_module": "@jupyter-widgets/controls",
          "model_name": "HTMLModel",
          "model_module_version": "1.5.0",
          "state": {
            "_dom_classes": [],
            "_model_module": "@jupyter-widgets/controls",
            "_model_module_version": "1.5.0",
            "_model_name": "HTMLModel",
            "_view_count": null,
            "_view_module": "@jupyter-widgets/controls",
            "_view_module_version": "1.5.0",
            "_view_name": "HTMLView",
            "description": "",
            "description_tooltip": null,
            "layout": "IPY_MODEL_fda5a6deed224213bbe3deb97eaec7f9",
            "placeholder": "​",
            "style": "IPY_MODEL_efa68c5d5d0a4f4abfc787c940837870",
            "value": "Generating train split: 100%"
          }
        },
        "ac8d729a26ad452594b3373cdaab7e09": {
          "model_module": "@jupyter-widgets/controls",
          "model_name": "FloatProgressModel",
          "model_module_version": "1.5.0",
          "state": {
            "_dom_classes": [],
            "_model_module": "@jupyter-widgets/controls",
            "_model_module_version": "1.5.0",
            "_model_name": "FloatProgressModel",
            "_view_count": null,
            "_view_module": "@jupyter-widgets/controls",
            "_view_module_version": "1.5.0",
            "_view_name": "ProgressView",
            "bar_style": "success",
            "description": "",
            "description_tooltip": null,
            "layout": "IPY_MODEL_19afe38be3224b7b9e520ab9cc7cb3dc",
            "max": 32332,
            "min": 0,
            "orientation": "horizontal",
            "style": "IPY_MODEL_91922285f6e6491cb38e7e1f43801ff7",
            "value": 32332
          }
        },
        "3d4b6983635549f8a381267b06c4e8e9": {
          "model_module": "@jupyter-widgets/controls",
          "model_name": "HTMLModel",
          "model_module_version": "1.5.0",
          "state": {
            "_dom_classes": [],
            "_model_module": "@jupyter-widgets/controls",
            "_model_module_version": "1.5.0",
            "_model_name": "HTMLModel",
            "_view_count": null,
            "_view_module": "@jupyter-widgets/controls",
            "_view_module_version": "1.5.0",
            "_view_name": "HTMLView",
            "description": "",
            "description_tooltip": null,
            "layout": "IPY_MODEL_264efa8aabda40019060e4d590d90786",
            "placeholder": "​",
            "style": "IPY_MODEL_e294a1ddfef0409abd647300958c3410",
            "value": " 32332/32332 [00:00&lt;00:00, 290745.80 examples/s]"
          }
        },
        "462961eb26a2428889f520415e932831": {
          "model_module": "@jupyter-widgets/base",
          "model_name": "LayoutModel",
          "model_module_version": "1.2.0",
          "state": {
            "_model_module": "@jupyter-widgets/base",
            "_model_module_version": "1.2.0",
            "_model_name": "LayoutModel",
            "_view_count": null,
            "_view_module": "@jupyter-widgets/base",
            "_view_module_version": "1.2.0",
            "_view_name": "LayoutView",
            "align_content": null,
            "align_items": null,
            "align_self": null,
            "border": null,
            "bottom": null,
            "display": null,
            "flex": null,
            "flex_flow": null,
            "grid_area": null,
            "grid_auto_columns": null,
            "grid_auto_flow": null,
            "grid_auto_rows": null,
            "grid_column": null,
            "grid_gap": null,
            "grid_row": null,
            "grid_template_areas": null,
            "grid_template_columns": null,
            "grid_template_rows": null,
            "height": null,
            "justify_content": null,
            "justify_items": null,
            "left": null,
            "margin": null,
            "max_height": null,
            "max_width": null,
            "min_height": null,
            "min_width": null,
            "object_fit": null,
            "object_position": null,
            "order": null,
            "overflow": null,
            "overflow_x": null,
            "overflow_y": null,
            "padding": null,
            "right": null,
            "top": null,
            "visibility": null,
            "width": null
          }
        },
        "fda5a6deed224213bbe3deb97eaec7f9": {
          "model_module": "@jupyter-widgets/base",
          "model_name": "LayoutModel",
          "model_module_version": "1.2.0",
          "state": {
            "_model_module": "@jupyter-widgets/base",
            "_model_module_version": "1.2.0",
            "_model_name": "LayoutModel",
            "_view_count": null,
            "_view_module": "@jupyter-widgets/base",
            "_view_module_version": "1.2.0",
            "_view_name": "LayoutView",
            "align_content": null,
            "align_items": null,
            "align_self": null,
            "border": null,
            "bottom": null,
            "display": null,
            "flex": null,
            "flex_flow": null,
            "grid_area": null,
            "grid_auto_columns": null,
            "grid_auto_flow": null,
            "grid_auto_rows": null,
            "grid_column": null,
            "grid_gap": null,
            "grid_row": null,
            "grid_template_areas": null,
            "grid_template_columns": null,
            "grid_template_rows": null,
            "height": null,
            "justify_content": null,
            "justify_items": null,
            "left": null,
            "margin": null,
            "max_height": null,
            "max_width": null,
            "min_height": null,
            "min_width": null,
            "object_fit": null,
            "object_position": null,
            "order": null,
            "overflow": null,
            "overflow_x": null,
            "overflow_y": null,
            "padding": null,
            "right": null,
            "top": null,
            "visibility": null,
            "width": null
          }
        },
        "efa68c5d5d0a4f4abfc787c940837870": {
          "model_module": "@jupyter-widgets/controls",
          "model_name": "DescriptionStyleModel",
          "model_module_version": "1.5.0",
          "state": {
            "_model_module": "@jupyter-widgets/controls",
            "_model_module_version": "1.5.0",
            "_model_name": "DescriptionStyleModel",
            "_view_count": null,
            "_view_module": "@jupyter-widgets/base",
            "_view_module_version": "1.2.0",
            "_view_name": "StyleView",
            "description_width": ""
          }
        },
        "19afe38be3224b7b9e520ab9cc7cb3dc": {
          "model_module": "@jupyter-widgets/base",
          "model_name": "LayoutModel",
          "model_module_version": "1.2.0",
          "state": {
            "_model_module": "@jupyter-widgets/base",
            "_model_module_version": "1.2.0",
            "_model_name": "LayoutModel",
            "_view_count": null,
            "_view_module": "@jupyter-widgets/base",
            "_view_module_version": "1.2.0",
            "_view_name": "LayoutView",
            "align_content": null,
            "align_items": null,
            "align_self": null,
            "border": null,
            "bottom": null,
            "display": null,
            "flex": null,
            "flex_flow": null,
            "grid_area": null,
            "grid_auto_columns": null,
            "grid_auto_flow": null,
            "grid_auto_rows": null,
            "grid_column": null,
            "grid_gap": null,
            "grid_row": null,
            "grid_template_areas": null,
            "grid_template_columns": null,
            "grid_template_rows": null,
            "height": null,
            "justify_content": null,
            "justify_items": null,
            "left": null,
            "margin": null,
            "max_height": null,
            "max_width": null,
            "min_height": null,
            "min_width": null,
            "object_fit": null,
            "object_position": null,
            "order": null,
            "overflow": null,
            "overflow_x": null,
            "overflow_y": null,
            "padding": null,
            "right": null,
            "top": null,
            "visibility": null,
            "width": null
          }
        },
        "91922285f6e6491cb38e7e1f43801ff7": {
          "model_module": "@jupyter-widgets/controls",
          "model_name": "ProgressStyleModel",
          "model_module_version": "1.5.0",
          "state": {
            "_model_module": "@jupyter-widgets/controls",
            "_model_module_version": "1.5.0",
            "_model_name": "ProgressStyleModel",
            "_view_count": null,
            "_view_module": "@jupyter-widgets/base",
            "_view_module_version": "1.2.0",
            "_view_name": "StyleView",
            "bar_color": null,
            "description_width": ""
          }
        },
        "264efa8aabda40019060e4d590d90786": {
          "model_module": "@jupyter-widgets/base",
          "model_name": "LayoutModel",
          "model_module_version": "1.2.0",
          "state": {
            "_model_module": "@jupyter-widgets/base",
            "_model_module_version": "1.2.0",
            "_model_name": "LayoutModel",
            "_view_count": null,
            "_view_module": "@jupyter-widgets/base",
            "_view_module_version": "1.2.0",
            "_view_name": "LayoutView",
            "align_content": null,
            "align_items": null,
            "align_self": null,
            "border": null,
            "bottom": null,
            "display": null,
            "flex": null,
            "flex_flow": null,
            "grid_area": null,
            "grid_auto_columns": null,
            "grid_auto_flow": null,
            "grid_auto_rows": null,
            "grid_column": null,
            "grid_gap": null,
            "grid_row": null,
            "grid_template_areas": null,
            "grid_template_columns": null,
            "grid_template_rows": null,
            "height": null,
            "justify_content": null,
            "justify_items": null,
            "left": null,
            "margin": null,
            "max_height": null,
            "max_width": null,
            "min_height": null,
            "min_width": null,
            "object_fit": null,
            "object_position": null,
            "order": null,
            "overflow": null,
            "overflow_x": null,
            "overflow_y": null,
            "padding": null,
            "right": null,
            "top": null,
            "visibility": null,
            "width": null
          }
        },
        "e294a1ddfef0409abd647300958c3410": {
          "model_module": "@jupyter-widgets/controls",
          "model_name": "DescriptionStyleModel",
          "model_module_version": "1.5.0",
          "state": {
            "_model_module": "@jupyter-widgets/controls",
            "_model_module_version": "1.5.0",
            "_model_name": "DescriptionStyleModel",
            "_view_count": null,
            "_view_module": "@jupyter-widgets/base",
            "_view_module_version": "1.2.0",
            "_view_name": "StyleView",
            "description_width": ""
          }
        }
      }
    }
  },
  "cells": [
    {
      "cell_type": "code",
      "execution_count": 1,
      "metadata": {
        "id": "-_R7mn5wnSlo"
      },
      "outputs": [],
      "source": [
        "%load_ext tensorboard\n",
        "%load_ext autoreload\n",
        "%autoreload 2"
      ]
    },
    {
      "cell_type": "code",
      "source": [
        "# Future print function\n",
        "from __future__ import print_function\n",
        "\n",
        "!git clone https://github.com/harikishanm96/S18---Assignment -q --quiet\n",
        "!mv S18---Assignment/*.py .\n",
        "!rm -rf S18---Assignment\n",
        "print(\"Loaded Modules and Models\")\n",
        "\n",
        "# Installing Library\n",
        "!pip install datasets -q --quiet\n",
        "!pip install tokenizers -q --quiet\n",
        "!pip install torchmetrics -q --quiet\n",
        "!pip install torchtext -q --quiet\n",
        "\n",
        "# For inline matplotlib plotting\n",
        "%matplotlib inline"
      ],
      "metadata": {
        "colab": {
          "base_uri": "https://localhost:8080/"
        },
        "id": "gl3eOsIXnXU3",
        "outputId": "14afe2a4-d24c-42fd-daeb-d114eee624cc"
      },
      "execution_count": 2,
      "outputs": [
        {
          "output_type": "stream",
          "name": "stdout",
          "text": [
            "Loaded Modules and Models\n",
            "\u001b[2K     \u001b[90m━━━━━━━━━━━━━━━━━━━━━━━━━━━━━━━━━━━━━━━━\u001b[0m \u001b[32m542.1/542.1 kB\u001b[0m \u001b[31m12.1 MB/s\u001b[0m eta \u001b[36m0:00:00\u001b[0m\n",
            "\u001b[2K     \u001b[90m━━━━━━━━━━━━━━━━━━━━━━━━━━━━━━━━━━━━━━━━\u001b[0m \u001b[32m116.3/116.3 kB\u001b[0m \u001b[31m10.0 MB/s\u001b[0m eta \u001b[36m0:00:00\u001b[0m\n",
            "\u001b[2K     \u001b[90m━━━━━━━━━━━━━━━━━━━━━━━━━━━━━━━━━━━━━━━━\u001b[0m \u001b[32m64.9/64.9 kB\u001b[0m \u001b[31m6.9 MB/s\u001b[0m eta \u001b[36m0:00:00\u001b[0m\n",
            "\u001b[2K     \u001b[90m━━━━━━━━━━━━━━━━━━━━━━━━━━━━━━━━━━━━━━━━\u001b[0m \u001b[32m194.1/194.1 kB\u001b[0m \u001b[31m23.6 MB/s\u001b[0m eta \u001b[36m0:00:00\u001b[0m\n",
            "\u001b[2K     \u001b[90m━━━━━━━━━━━━━━━━━━━━━━━━━━━━━━━━━━━━━━━━\u001b[0m \u001b[32m134.8/134.8 kB\u001b[0m \u001b[31m18.5 MB/s\u001b[0m eta \u001b[36m0:00:00\u001b[0m\n",
            "\u001b[?25h\u001b[31mERROR: pip's dependency resolver does not currently take into account all the packages that are installed. This behaviour is the source of the following dependency conflicts.\n",
            "google-colab 1.0.0 requires requests==2.31.0, but you have requests 2.32.3 which is incompatible.\u001b[0m\u001b[31m\n",
            "\u001b[2K     \u001b[90m━━━━━━━━━━━━━━━━━━━━━━━━━━━━━━━━━━━━━━━━\u001b[0m \u001b[32m868.8/868.8 kB\u001b[0m \u001b[31m13.1 MB/s\u001b[0m eta \u001b[36m0:00:00\u001b[0m\n",
            "\u001b[2K     \u001b[90m━━━━━━━━━━━━━━━━━━━━━━━━━━━━━━━━━━━━━━━━\u001b[0m \u001b[32m21.3/21.3 MB\u001b[0m \u001b[31m32.1 MB/s\u001b[0m eta \u001b[36m0:00:00\u001b[0m\n",
            "\u001b[?25h"
          ]
        }
      ]
    },
    {
      "cell_type": "code",
      "source": [
        "from config import get_config\n",
        "cfg = get_config()\n",
        "cfg['batch_size'] = 64\n",
        "cfg['preload'] = None\n",
        "\n",
        "from train import train_model\n",
        "\n",
        "import torch\n",
        "torch.cuda.amp.autocast(enabled=True)\n",
        "\n",
        "train_model(cfg)"
      ],
      "metadata": {
        "colab": {
          "base_uri": "https://localhost:8080/",
          "height": 1000,
          "referenced_widgets": [
            "ebdcde7c66bd4d348e5b37aacd706bba",
            "2399fe3347b2451d9f00a9c50f93794a",
            "168dae2142d24e4f8cef8cd3fd63a5fd",
            "02612c9dc803470d891e298d5c8f5c02",
            "9775c4771e3748019aa96b81be1d5c30",
            "d043de0b1b8a4e459250da24e5219361",
            "fec137a2784e4f3f96866632a126491a",
            "adb99323dceb469782ccd7155eb931c8",
            "aedc05aacc1f4b9b937bf601e3e9dea4",
            "dd65cab514d04fc7a996a90de17953f3",
            "ea960e1de86740a38707de4dbeb5ef9c",
            "25be9dd70a6b49e9b1497a95ba383d3e",
            "baa3fe94ae9f4191be9896f89e9bff80",
            "b84f4bc6ab4f4826a1ec4d524ff7298e",
            "20d3809a049c412e901c0f22184bd72e",
            "a64ecfd76fa84cd7946ed439aea8203b",
            "452fe0e387eb465a92abcd73cfd404e3",
            "50182cf751bf494495f1f59e3ccabdf6",
            "ce7a93e2867f406f909600e59e9dca85",
            "d8db5b1aabd449feb1af4bd264ac862f",
            "d666ca6050a74ad9b73d5e3854c40827",
            "bbd12d24a9c643b59ccd519eb0fc695c",
            "e197a17a0ec14e3785c1ce0f20178a95",
            "4ca7d4aa2c12428cbf2a0017255e77bc",
            "ac8d729a26ad452594b3373cdaab7e09",
            "3d4b6983635549f8a381267b06c4e8e9",
            "462961eb26a2428889f520415e932831",
            "fda5a6deed224213bbe3deb97eaec7f9",
            "efa68c5d5d0a4f4abfc787c940837870",
            "19afe38be3224b7b9e520ab9cc7cb3dc",
            "91922285f6e6491cb38e7e1f43801ff7",
            "264efa8aabda40019060e4d590d90786",
            "e294a1ddfef0409abd647300958c3410"
          ]
        },
        "id": "OHUZiJXAoM6f",
        "outputId": "cfe288b9-9048-4b52-9df9-72cd4a577f63"
      },
      "execution_count": 3,
      "outputs": [
        {
          "output_type": "stream",
          "name": "stderr",
          "text": [
            "/usr/local/lib/python3.10/dist-packages/torchtext/datasets/__init__.py:4: UserWarning: \n",
            "/!\\ IMPORTANT WARNING ABOUT TORCHTEXT STATUS /!\\ \n",
            "Torchtext is deprecated and the last released version will be 0.18 (this one). You can silence this warning by calling the following at the beginnign of your scripts: `import torchtext; torchtext.disable_torchtext_deprecation_warning()`\n",
            "  warnings.warn(torchtext._TORCHTEXT_DEPRECATION_MSG)\n",
            "/usr/local/lib/python3.10/dist-packages/torchtext/data/__init__.py:4: UserWarning: \n",
            "/!\\ IMPORTANT WARNING ABOUT TORCHTEXT STATUS /!\\ \n",
            "Torchtext is deprecated and the last released version will be 0.18 (this one). You can silence this warning by calling the following at the beginnign of your scripts: `import torchtext; torchtext.disable_torchtext_deprecation_warning()`\n",
            "  warnings.warn(torchtext._TORCHTEXT_DEPRECATION_MSG)\n"
          ]
        },
        {
          "output_type": "stream",
          "name": "stdout",
          "text": [
            "Using device: cuda\n"
          ]
        },
        {
          "output_type": "stream",
          "name": "stderr",
          "text": [
            "/usr/local/lib/python3.10/dist-packages/huggingface_hub/utils/_token.py:89: UserWarning: \n",
            "The secret `HF_TOKEN` does not exist in your Colab secrets.\n",
            "To authenticate with the Hugging Face Hub, create a token in your settings tab (https://huggingface.co/settings/tokens), set it as secret in your Google Colab and restart your session.\n",
            "You will be able to reuse this secret in all of your notebooks.\n",
            "Please note that authentication is recommended but still optional to access public models or datasets.\n",
            "  warnings.warn(\n"
          ]
        },
        {
          "output_type": "display_data",
          "data": {
            "text/plain": [
              "Downloading readme:   0%|          | 0.00/28.1k [00:00<?, ?B/s]"
            ],
            "application/vnd.jupyter.widget-view+json": {
              "version_major": 2,
              "version_minor": 0,
              "model_id": "ebdcde7c66bd4d348e5b37aacd706bba"
            }
          },
          "metadata": {}
        },
        {
          "output_type": "display_data",
          "data": {
            "text/plain": [
              "Downloading data:   0%|          | 0.00/5.73M [00:00<?, ?B/s]"
            ],
            "application/vnd.jupyter.widget-view+json": {
              "version_major": 2,
              "version_minor": 0,
              "model_id": "25be9dd70a6b49e9b1497a95ba383d3e"
            }
          },
          "metadata": {}
        },
        {
          "output_type": "display_data",
          "data": {
            "text/plain": [
              "Generating train split:   0%|          | 0/32332 [00:00<?, ? examples/s]"
            ],
            "application/vnd.jupyter.widget-view+json": {
              "version_major": 2,
              "version_minor": 0,
              "model_id": "e197a17a0ec14e3785c1ce0f20178a95"
            }
          },
          "metadata": {}
        },
        {
          "output_type": "stream",
          "name": "stdout",
          "text": [
            "Max length of source sentence: 309\n",
            "Max length of target sentence: 274\n"
          ]
        },
        {
          "output_type": "stream",
          "name": "stderr",
          "text": [
            "Processing Epoch 00: 100%|██████████| 242/242 [00:45<00:00,  5.37it/s, loss=5.983]\n"
          ]
        },
        {
          "output_type": "stream",
          "name": "stdout",
          "text": [
            "--------------------------------------------------------------------------------\n",
            "    SOURCE: 'That's a rebuke for me!\n",
            "    TARGET: — Ma questa lezione è per me!\n",
            " PREDICTED: — E , e un ’ è .\n",
            "--------------------------------------------------------------------------------\n",
            "    SOURCE: But he could not say this to her.\n",
            "    TARGET: Egli non poteva dirle questo.\n",
            " PREDICTED: Ma non non non non non non non non non non non .\n",
            "--------------------------------------------------------------------------------\n"
          ]
        },
        {
          "output_type": "stream",
          "name": "stderr",
          "text": [
            "Processing Epoch 01: 100%|██████████| 242/242 [00:45<00:00,  5.37it/s, loss=5.225]\n"
          ]
        },
        {
          "output_type": "stream",
          "name": "stdout",
          "text": [
            "--------------------------------------------------------------------------------\n",
            "    SOURCE: They say it has caught up the rye.'\n",
            "    TARGET: Dice che non lo si distingue dalla segala.\n",
            " PREDICTED: la sua vita è la sua .\n",
            "--------------------------------------------------------------------------------\n",
            "    SOURCE: The invalid made no comment.\n",
            "    TARGET: Il malato non disse nulla.\n",
            " PREDICTED: Il suo viso non si .\n",
            "--------------------------------------------------------------------------------\n"
          ]
        },
        {
          "output_type": "stream",
          "name": "stderr",
          "text": [
            "Processing Epoch 02: 100%|██████████| 242/242 [00:44<00:00,  5.40it/s, loss=4.548]\n"
          ]
        },
        {
          "output_type": "stream",
          "name": "stdout",
          "text": [
            "--------------------------------------------------------------------------------\n",
            "    SOURCE: This was uttered with the same pleasure with which a newly-married woman is addressed as Madame and called by her husband's name.\n",
            "    TARGET: Questo era pronunciato col medesimo piacere con cui si chiama una giovane donna “madame” e con il cognome del marito.\n",
            " PREDICTED: Era la stessa cosa con la sua bellezza di una donna di lei , la signora , e la signora è il marito .\n",
            "--------------------------------------------------------------------------------\n",
            "    SOURCE: 'But all I wanted was to find you alone,' he began, still standing and avoiding her face so as not to lose courage.\n",
            "    TARGET: — Ma io volevo proprio questo, trovarvi sola — cominciò senza sedersi e senza guardarla per non perder coraggio.\n",
            " PREDICTED: — Ma tutto quello che non c ’ è solo — egli disse e si il viso di lei .\n",
            "--------------------------------------------------------------------------------\n"
          ]
        },
        {
          "output_type": "stream",
          "name": "stderr",
          "text": [
            "Processing Epoch 03: 100%|██████████| 242/242 [00:45<00:00,  5.35it/s, loss=4.005]\n"
          ]
        },
        {
          "output_type": "stream",
          "name": "stdout",
          "text": [
            "--------------------------------------------------------------------------------\n",
            "    SOURCE: With her, or with another, they would come true.\n",
            "    TARGET: O con lei o con un’altra, ma questo sarebbe avvenuto.\n",
            " PREDICTED: Con la sua , o un ’ altra si sarebbe vero .\n",
            "--------------------------------------------------------------------------------\n",
            "    SOURCE: There remained one last water jump, only a yard and a half wide.\n",
            "    TARGET: Rimaneva solo l’ultimo fossato, pieno d’acqua e largo circa due aršiny.\n",
            " PREDICTED: V ’ era un po ’ di acqua , un po ’ di metà .\n",
            "--------------------------------------------------------------------------------\n"
          ]
        },
        {
          "output_type": "stream",
          "name": "stderr",
          "text": [
            "Processing Epoch 04: 100%|██████████| 242/242 [00:44<00:00,  5.40it/s, loss=3.561]\n"
          ]
        },
        {
          "output_type": "stream",
          "name": "stdout",
          "text": [
            "--------------------------------------------------------------------------------\n",
            "    SOURCE: In the mornings they went sight-seeing, and in the evenings took part in the national amusements.\n",
            "    TARGET: La mattina andavano a visitare le cose notevoli, la sera partecipavano ai divertimenti nazionali.\n",
            " PREDICTED: Nella luna la vista si andarono in cui si levò , e si su di me .\n",
            "--------------------------------------------------------------------------------\n",
            "    SOURCE: 'No, it was enjoyable all the same.\n",
            "    TARGET: — Tuttavia è piacevole.\n",
            " PREDICTED: — No , era sempre la stessa cosa .\n",
            "--------------------------------------------------------------------------------\n"
          ]
        },
        {
          "output_type": "stream",
          "name": "stderr",
          "text": [
            "Processing Epoch 05: 100%|██████████| 242/242 [00:44<00:00,  5.38it/s, loss=2.829]\n"
          ]
        },
        {
          "output_type": "stream",
          "name": "stdout",
          "text": [
            "--------------------------------------------------------------------------------\n",
            "    SOURCE: 'I used to hear all about you from my wife,' said Serpukhovskoy. 'I am glad you saw a good deal of her.'\n",
            "    TARGET: — Io di te ho saputo tutto attraverso mia moglie — disse Serpuchovskoj. — Sono contento che tu la veda spesso.\n",
            " PREDICTED: — Sono abituata a mia moglie , — disse Serpuchovskoj . — Vi sono felice . — Vi assicuro che siete molto contenta .\n",
            "--------------------------------------------------------------------------------\n",
            "    SOURCE: Metrov quoted words an the subject attributed to the Emperor and one of the Ministers, which he had from a reliable source.\n",
            "    TARGET: Metrov riferì le parole dette a quel proposito dall’imperatore e da uno dei ministri, apprese da fonte sicura.\n",
            " PREDICTED: Nel parole dette poche parole alla tetraggine e una spiegazione sincera , che era una vera chimera .\n",
            "--------------------------------------------------------------------------------\n"
          ]
        },
        {
          "output_type": "stream",
          "name": "stderr",
          "text": [
            "Processing Epoch 06: 100%|██████████| 242/242 [00:44<00:00,  5.39it/s, loss=2.428]\n"
          ]
        },
        {
          "output_type": "stream",
          "name": "stdout",
          "text": [
            "--------------------------------------------------------------------------------\n",
            "    SOURCE: \"What about, sir?\" \"Whatever you like.\n",
            "    TARGET: — Di che cosa, signore?\n",
            " PREDICTED: — Di che , signore ? — Qualunque .\n",
            "--------------------------------------------------------------------------------\n",
            "    SOURCE: He stood in the porch of the Karenins' house as one in a maze, and did not know what to do next.\n",
            "    TARGET: Egli stava fermo sulla scala di casa Karenin, come smemorato, senza sapere cosa fare.\n",
            " PREDICTED: Era uno dei Karenin di Karenin e dei Karenin , laberinto di laberinto .\n",
            "--------------------------------------------------------------------------------\n"
          ]
        },
        {
          "output_type": "stream",
          "name": "stderr",
          "text": [
            "Processing Epoch 07: 100%|██████████| 242/242 [00:44<00:00,  5.39it/s, loss=2.114]\n"
          ]
        },
        {
          "output_type": "stream",
          "name": "stdout",
          "text": [
            "--------------------------------------------------------------------------------\n",
            "    SOURCE: The head lay on its side on the pillow.\n",
            "    TARGET: La testa era adagiata di lato su di un guanciale.\n",
            " PREDICTED: La testa da da guanciale da guanciale .\n",
            "--------------------------------------------------------------------------------\n",
            "    SOURCE: Where have you been?\n",
            "    TARGET: Dove sei stato?\n",
            " PREDICTED: Dove siete stato ?\n",
            "--------------------------------------------------------------------------------\n"
          ]
        },
        {
          "output_type": "stream",
          "name": "stderr",
          "text": [
            "Processing Epoch 08: 100%|██████████| 242/242 [00:44<00:00,  5.42it/s, loss=1.878]\n"
          ]
        },
        {
          "output_type": "stream",
          "name": "stdout",
          "text": [
            "--------------------------------------------------------------------------------\n",
            "    SOURCE: We had nothing now to do but to watch for them in the dark, and to fall upon them, so as to make sure work with them.\n",
            "    TARGET: Ora non ci restava altro a fare che aspettar l’ora bruna per piombar loro addosso e lavorare al sicuro anche con essi.\n",
            " PREDICTED: Non avevamo nulla di fare , ma per li orologio , e per .\n",
            "--------------------------------------------------------------------------------\n",
            "    SOURCE: \"Oh, he is not doing so well as his mama could wish.\n",
            "    TARGET: — Oh! non è quel che desiderava sua madre.\n",
            " PREDICTED: — Non si fa bene , come volete bene la mamma .\n",
            "--------------------------------------------------------------------------------\n"
          ]
        },
        {
          "output_type": "stream",
          "name": "stderr",
          "text": [
            "Processing Epoch 09: 100%|██████████| 242/242 [00:44<00:00,  5.42it/s, loss=1.724]\n"
          ]
        },
        {
          "output_type": "stream",
          "name": "stdout",
          "text": [
            "--------------------------------------------------------------------------------\n",
            "    SOURCE: I was coming to you,' he replied coldly.\n",
            "    TARGET: Venivo da voi — disse freddo.\n",
            " PREDICTED: Io vi devo — disse lui , fredda e freddo .\n",
            "--------------------------------------------------------------------------------\n",
            "    SOURCE: \"Hardly,\" was the answer. \"I have called it insuperable, and I speak advisedly.\"\n",
            "    TARGET: — Sarà difficile! ho detto che era insuperabile e non parlo a caso.\n",
            " PREDICTED: — È difficile — disse — che non ho detto a .\n",
            "--------------------------------------------------------------------------------\n"
          ]
        },
        {
          "output_type": "stream",
          "name": "stderr",
          "text": [
            "Processing Epoch 10: 100%|██████████| 242/242 [00:44<00:00,  5.41it/s, loss=1.625]\n"
          ]
        },
        {
          "output_type": "stream",
          "name": "stdout",
          "text": [
            "--------------------------------------------------------------------------------\n",
            "    SOURCE: 'Herald, read the accusation!' said the King.\n",
            "    TARGET: — Usciere! leggete l'atto d'accusa, — disse il Re.\n",
            " PREDICTED: — la lesse , e il Re ! — disse il Re .\n",
            "--------------------------------------------------------------------------------\n",
            "    SOURCE: 'And you are not afraid?'\n",
            "    TARGET: — E non hai paura?\n",
            " PREDICTED: — Non hai paura ?\n",
            "--------------------------------------------------------------------------------\n"
          ]
        },
        {
          "output_type": "stream",
          "name": "stderr",
          "text": [
            "Processing Epoch 11: 100%|██████████| 242/242 [00:45<00:00,  5.34it/s, loss=1.578]\n"
          ]
        },
        {
          "output_type": "stream",
          "name": "stdout",
          "text": [
            "--------------------------------------------------------------------------------\n",
            "    SOURCE: I am not strange, but wicked.\n",
            "    TARGET: Non sono strana, sono cattiva.\n",
            " PREDICTED: Non sono strano , ma non mi .\n",
            "--------------------------------------------------------------------------------\n",
            "    SOURCE: 'When?' said Levin, blushing. 'To-morrow!\n",
            "    TARGET: — Quando? — disse Levin, arrossendo. — Domani.\n",
            " PREDICTED: — Quando ? — disse Levin , arrossendo . — Domani andiamo .\n",
            "--------------------------------------------------------------------------------\n"
          ]
        },
        {
          "output_type": "stream",
          "name": "stderr",
          "text": [
            "Processing Epoch 12: 100%|██████████| 242/242 [00:45<00:00,  5.29it/s, loss=1.532]\n"
          ]
        },
        {
          "output_type": "stream",
          "name": "stdout",
          "text": [
            "--------------------------------------------------------------------------------\n",
            "    SOURCE: They huddled together, and waited; and he climbed down, and came in.\n",
            "    TARGET: Si aggrupparono, e aspettarono; quegli discese e andò.\n",
            " PREDICTED: Ella arrossì insieme e aspettava .\n",
            "--------------------------------------------------------------------------------\n",
            "    SOURCE: Then: \"Hi!\n",
            "    TARGET: Poi: — Ehi!\n",
            " PREDICTED: Poi : — Ehi !\n",
            "--------------------------------------------------------------------------------\n"
          ]
        },
        {
          "output_type": "stream",
          "name": "stderr",
          "text": [
            "Processing Epoch 13: 100%|██████████| 242/242 [00:45<00:00,  5.34it/s, loss=1.491]\n"
          ]
        },
        {
          "output_type": "stream",
          "name": "stdout",
          "text": [
            "--------------------------------------------------------------------------------\n",
            "    SOURCE: 'Well then, let's dine together.'\n",
            "    TARGET: — Su via, andiamo a pranzare insieme.\n",
            " PREDICTED: — Su , allora ?\n",
            "--------------------------------------------------------------------------------\n",
            "    SOURCE: Before I took to farming I was getting three thousand roubles a year in the Service.\n",
            "    TARGET: Finché non ho preso a dirigere l’azienda, in servizio guadagnavo tremila rubli.\n",
            " PREDICTED: Prima di tre , ho preso l ’ anno scorso , ero a me .\n",
            "--------------------------------------------------------------------------------\n"
          ]
        },
        {
          "output_type": "stream",
          "name": "stderr",
          "text": [
            "Processing Epoch 14: 100%|██████████| 242/242 [00:45<00:00,  5.34it/s, loss=1.475]\n"
          ]
        },
        {
          "output_type": "stream",
          "name": "stdout",
          "text": [
            "--------------------------------------------------------------------------------\n",
            "    SOURCE: You know her, of course?\n",
            "    TARGET: La conosci, è vero?\n",
            " PREDICTED: La conosci , s ’ intende ?\n",
            "--------------------------------------------------------------------------------\n",
            "    SOURCE: Their ties were drawn still closer during Levin's University days.\n",
            "    TARGET: Questi rapporti si erano fatti più stretti durante lo studentato di Levin.\n",
            " PREDICTED: Il passo di avere in giro del vecchio durante la campana .\n",
            "--------------------------------------------------------------------------------\n"
          ]
        },
        {
          "output_type": "stream",
          "name": "stderr",
          "text": [
            "Processing Epoch 15: 100%|██████████| 242/242 [00:45<00:00,  5.37it/s, loss=1.452]\n"
          ]
        },
        {
          "output_type": "stream",
          "name": "stdout",
          "text": [
            "--------------------------------------------------------------------------------\n",
            "    SOURCE: Only one of them was lazily eating oats, scattering them over the edge of the trough.\n",
            "    TARGET: Uno di essi mangiava l’avena, spargendola con il muso per il trogolo.\n",
            " PREDICTED: Soltanto uno dei , ma un ’ occhiata all ’ orlo di dare la mano a — disse la verità .\n",
            "--------------------------------------------------------------------------------\n",
            "    SOURCE: He seemed surprised.\n",
            "    TARGET: Egli parve sorpreso.\n",
            " PREDICTED: Parve meravigliato .\n",
            "--------------------------------------------------------------------------------\n"
          ]
        },
        {
          "output_type": "stream",
          "name": "stderr",
          "text": [
            "Processing Epoch 16: 100%|██████████| 242/242 [00:45<00:00,  5.37it/s, loss=1.440]\n"
          ]
        },
        {
          "output_type": "stream",
          "name": "stdout",
          "text": [
            "--------------------------------------------------------------------------------\n",
            "    SOURCE: She held his hand and did not move. Yes!\n",
            "    TARGET: Ella gli teneva stretta una mano e non si moveva.\n",
            " PREDICTED: Ella gli stese la mano e non osava farla :\n",
            "--------------------------------------------------------------------------------\n",
            "    SOURCE: THE FIRST PERSON TO MEET ANNA when she reached home was her son.\n",
            "    TARGET: La prima persona che venne incontro ad Anna in casa fu il figlio.\n",
            " PREDICTED: in quel momento di Aleksej Aleksandrovic , quando Anna si sentì dal figlio .\n",
            "--------------------------------------------------------------------------------\n"
          ]
        },
        {
          "output_type": "stream",
          "name": "stderr",
          "text": [
            "Processing Epoch 17: 100%|██████████| 242/242 [00:45<00:00,  5.37it/s, loss=1.441]\n"
          ]
        },
        {
          "output_type": "stream",
          "name": "stdout",
          "text": [
            "--------------------------------------------------------------------------------\n",
            "    SOURCE: She inquired about the races.\n",
            "    TARGET: Gli domandò delle corse.\n",
            " PREDICTED: Le ha chiesto di ,\n",
            "--------------------------------------------------------------------------------\n",
            "    SOURCE: He does not know what love is.'\n",
            "    TARGET: Ma lui non sa neppure cosa sia l’amore!».\n",
            " PREDICTED: Egli non capisce quello che è innamorato .\n",
            "--------------------------------------------------------------------------------\n"
          ]
        }
      ]
    }
  ]
}